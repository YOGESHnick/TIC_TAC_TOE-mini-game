{
 "cells": [
  {
   "cell_type": "markdown",
   "id": "606d233f",
   "metadata": {},
   "source": [
    "THIS IS A MINI - GAME:\n",
    "-It was completely developed using Python3"
   ]
  },
  {
   "cell_type": "code",
   "execution_count": 3,
   "id": "0694fdbd",
   "metadata": {},
   "outputs": [],
   "source": [
    "from IPython.display import clear_output\n",
    "def display_board(board):\n",
    "    clear_output()\n",
    "    print('  |   | ')\n",
    "    print(board[7]+' | '+board[8]+' | '+board[9])\n",
    "    print('  |   | ')\n",
    "    print('----------')\n",
    "    print('  |   | ')\n",
    "    print(board[4]+' | '+board[5]+' | '+board[6])\n",
    "    print('  |   | ')\n",
    "    print('----------')\n",
    "    print('  |   | ')\n",
    "    print(board[1]+' | '+board[2]+' | '+board[3])\n",
    "    print('  |   | ')"
   ]
  },
  {
   "cell_type": "code",
   "execution_count": 4,
   "id": "a4fb8cce",
   "metadata": {},
   "outputs": [
    {
     "name": "stdout",
     "output_type": "stream",
     "text": [
      "  |   | \n",
      "7 | 8 | 9\n",
      "  |   | \n",
      "----------\n",
      "  |   | \n",
      "4 | 5 | 6\n",
      "  |   | \n",
      "----------\n",
      "  |   | \n",
      "1 | 2 | 3\n",
      "  |   | \n"
     ]
    }
   ],
   "source": [
    "summa_board=['#','1','2','3','4','5','6','7','8','9']\n",
    "display_board(summa_board)"
   ]
  },
  {
   "cell_type": "code",
   "execution_count": 5,
   "id": "051f297a",
   "metadata": {},
   "outputs": [],
   "source": [
    "def player_input():\n",
    "    marker=''\n",
    "    while not(marker=='X' or marker=='O'):\n",
    "        marker=input(\"Player 1...choose X or O : \").upper()\n",
    "    if marker=='X':\n",
    "        return('X','O')\n",
    "    else:\n",
    "        return('O','X')"
   ]
  },
  {
   "cell_type": "code",
   "execution_count": 6,
   "id": "db258013",
   "metadata": {},
   "outputs": [
    {
     "name": "stdout",
     "output_type": "stream",
     "text": [
      "Player 1...choose X or O : x\n"
     ]
    }
   ],
   "source": [
    "player1_marker,player2_marker=player_input()\n"
   ]
  },
  {
   "cell_type": "code",
   "execution_count": 7,
   "id": "eb78e135",
   "metadata": {},
   "outputs": [
    {
     "name": "stdout",
     "output_type": "stream",
     "text": [
      "  |   | \n",
      "7 | $ | 9\n",
      "  |   | \n",
      "----------\n",
      "  |   | \n",
      "4 | 5 | 6\n",
      "  |   | \n",
      "----------\n",
      "  |   | \n",
      "1 | 2 | 3\n",
      "  |   | \n"
     ]
    }
   ],
   "source": [
    "def place_marker(board,marker,position):\n",
    "    board[position]=marker\n",
    "place_marker(summa_board,'$',8)\n",
    "display_board(summa_board)"
   ]
  },
  {
   "cell_type": "code",
   "execution_count": 8,
   "id": "24c0bcb2",
   "metadata": {},
   "outputs": [],
   "source": [
    "def win_check(board,mark):\n",
    "    return((board[1]==mark and board[2]==mark and board[3]==mark)or\n",
    "          (board[4]==mark and board[5]==mark and board[6]==mark)or\n",
    "          (board[7]==mark and board[8]==mark and board[9]==mark)or\n",
    "          (board[1]==mark and board[4]==mark and board[7]==mark)or\n",
    "          (board[2]==mark and board[5]==mark and board[8]==mark)or\n",
    "          (board[3]==mark and board[6]==mark and board[9]==mark)or\n",
    "          (board[1]==mark and board[5]==mark and board[9]==mark)or\n",
    "          (board[3]==mark and board[5]==mark and board[7]==mark) ) "
   ]
  },
  {
   "cell_type": "code",
   "execution_count": 9,
   "id": "19c45579",
   "metadata": {},
   "outputs": [
    {
     "data": {
      "text/plain": [
       "False"
      ]
     },
     "execution_count": 9,
     "metadata": {},
     "output_type": "execute_result"
    }
   ],
   "source": [
    "win_check(summa_board,'x')"
   ]
  },
  {
   "cell_type": "code",
   "execution_count": 10,
   "id": "07b46c7a",
   "metadata": {},
   "outputs": [],
   "source": [
    "import random\n",
    "def choose_first():\n",
    "    flip=random.randint(0,1)\n",
    "    if flip==0:\n",
    "        return 'Player 1'\n",
    "    else:\n",
    "        return 'Player 2'"
   ]
  },
  {
   "cell_type": "code",
   "execution_count": 11,
   "id": "217d4279",
   "metadata": {},
   "outputs": [],
   "source": [
    "def space_check(board,position):\n",
    "    return board[position]==' '"
   ]
  },
  {
   "cell_type": "code",
   "execution_count": 12,
   "id": "3137d356",
   "metadata": {},
   "outputs": [],
   "source": [
    "def full_board_check(board):\n",
    "    for i in range(1,10):\n",
    "        if space_check(board,i):\n",
    "            return False\n",
    "    return True"
   ]
  },
  {
   "cell_type": "code",
   "execution_count": 13,
   "id": "ba2a742c",
   "metadata": {},
   "outputs": [],
   "source": [
    "def player_choice(board):\n",
    "    position=0\n",
    "    while position not in [1,2,3,4,5,6,7,8,9] or not space_check(board,position):\n",
    "        position=int(input('Choose a position (1-9) : '))\n",
    "    return position"
   ]
  },
  {
   "cell_type": "code",
   "execution_count": 14,
   "id": "0cef7af8",
   "metadata": {},
   "outputs": [],
   "source": [
    "def replay():\n",
    "    choice = input(\"Wanna Play Again ? Enter y or n\")\n",
    "    return choice=='y'"
   ]
  },
  {
   "cell_type": "code",
   "execution_count": 15,
   "id": "cb9c6a77",
   "metadata": {},
   "outputs": [
    {
     "name": "stdout",
     "output_type": "stream",
     "text": [
      "  |   | \n",
      "  |   | X\n",
      "  |   | \n",
      "----------\n",
      "  |   | \n",
      "  | X | O\n",
      "  |   | \n",
      "----------\n",
      "  |   | \n",
      "X | O |  \n",
      "  |   | \n",
      "PLAYER 1 HAS WON !!!!\n",
      "Wanna Play Again ? Enter y or nn\n"
     ]
    }
   ],
   "source": [
    "print(\" T I C  -  T A C  -  T O E \")\n",
    "while True:\n",
    "   \n",
    "    the_board=[' ']*10\n",
    "    player1_marker,player2_marker = player_input()\n",
    "   \n",
    "    turn=choose_first()\n",
    "    print(turn+' will go first...')\n",
    "   \n",
    "    play_game=input('Ready to start ? y or n ')\n",
    "    if play_game == 'y':\n",
    "        game_on=True\n",
    "    else:\n",
    "        game_on=False\n",
    "   \n",
    "    while game_on:\n",
    "        if turn == 'Player 1':\n",
    "           \n",
    "            display_board(the_board)\n",
    "            position=player_choice(the_board)\n",
    "            place_marker(the_board,player1_marker,position)\n",
    "            if win_check(the_board,player1_marker):\n",
    "                display_board(the_board)\n",
    "                print('PLAYER 1 HAS WON !!!!')\n",
    "                game_on=False\n",
    "            else:\n",
    "                if full_board_check(the_board):\n",
    "                    display_board(the_board)\n",
    "                    print(\"TIE GAME !\")\n",
    "                    game_on=False\n",
    "                else:\n",
    "                    turn ='Player 2'\n",
    "           \n",
    "           \n",
    "           \n",
    "        else:\n",
    "           \n",
    "           \n",
    "            display_board(the_board)\n",
    "            position=player_choice(the_board)\n",
    "            place_marker(the_board,player2_marker,position)\n",
    "            if win_check(the_board,player2_marker):\n",
    "                display_board(the_board)\n",
    "                print('PLAYER 2 HAS WON !!!!')\n",
    "                game_on = False\n",
    "            else:\n",
    "                if full_board_check(the_board):\n",
    "                    display_board(the_board)\n",
    "                    print(\"TIE GAME !\")\n",
    "                    game_on = False\n",
    "                else:\n",
    "                    turn='Player 1'\n",
    "\n",
    "     \n",
    "    if not replay():\n",
    "        break\n"
   ]
  },
  {
   "cell_type": "code",
   "execution_count": null,
   "id": "eb36b073",
   "metadata": {},
   "outputs": [],
   "source": []
  },
  {
   "cell_type": "code",
   "execution_count": null,
   "id": "ffe57f5f",
   "metadata": {},
   "outputs": [],
   "source": []
  },
  {
   "cell_type": "code",
   "execution_count": null,
   "id": "b9c48d53",
   "metadata": {},
   "outputs": [],
   "source": []
  }
 ],
 "metadata": {
  "kernelspec": {
   "display_name": "Python 3 (ipykernel)",
   "language": "python",
   "name": "python3"
  },
  "language_info": {
   "codemirror_mode": {
    "name": "ipython",
    "version": 3
   },
   "file_extension": ".py",
   "mimetype": "text/x-python",
   "name": "python",
   "nbconvert_exporter": "python",
   "pygments_lexer": "ipython3",
   "version": "3.9.13"
  }
 },
 "nbformat": 4,
 "nbformat_minor": 5
}
